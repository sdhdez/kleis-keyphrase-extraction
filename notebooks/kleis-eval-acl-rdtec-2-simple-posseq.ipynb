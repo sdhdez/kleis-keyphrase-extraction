{
 "cells": [
  {
   "cell_type": "code",
   "execution_count": 1,
   "metadata": {},
   "outputs": [],
   "source": [
    "import kleis.resources.dataset as kl\n",
    "from kleis.config.config import ACLRDTEC20"
   ]
  },
  {
   "cell_type": "code",
   "execution_count": 2,
   "metadata": {},
   "outputs": [],
   "source": [
    "acl_rd_tec_20 = kl.load_corpus(name=ACLRDTEC20)"
   ]
  },
  {
   "cell_type": "code",
   "execution_count": 3,
   "metadata": {},
   "outputs": [],
   "source": [
    "dataset = acl_rd_tec_20"
   ]
  },
  {
   "cell_type": "code",
   "execution_count": 4,
   "metadata": {},
   "outputs": [],
   "source": [
    "dataset.load_train(annotator=\"annotator2\")"
   ]
  },
  {
   "cell_type": "code",
   "execution_count": 5,
   "metadata": {},
   "outputs": [
    {
     "name": "stdout",
     "output_type": "stream",
     "text": [
      "ACL-RD-TEC 2.0 acl-rd-tec-2.0-annotator2 232 50\n"
     ]
    }
   ],
   "source": [
    "print(\"ACL-RD-TEC 2.0\", dataset.fullname, len(dataset.train), len(dataset.test))"
   ]
  },
  {
   "cell_type": "code",
   "execution_count": 6,
   "metadata": {},
   "outputs": [
    {
     "name": "stdout",
     "output_type": "stream",
     "text": [
      "+++++ 585\n",
      "P = 0.724138, R = 0.029046, $F_{1.0}$ = 0.055851\n",
      "+++++ 392\n",
      "P = 0.704545, R = 0.085754, $F_{1.0}$ = 0.152898\n",
      "+++++ 373\n",
      "P = 0.476309, R = 0.264177, $F_{1.0}$ = 0.339858\n",
      "+++++ 298\n",
      "P = 0.363636, R = 0.381743, $F_{1.0}$ = 0.372470\n",
      "+++++ 229\n",
      "P = 0.395007, R = 0.372061, $F_{1.0}$ = 0.383191\n",
      "+++++ 184\n",
      "P = 0.364387, R = 0.427386, $F_{1.0}$ = 0.393380\n",
      "+++++ 178\n",
      "P = 0.390713, R = 0.477178, $F_{1.0}$ = 0.429639\n",
      "+++++ 119\n",
      "P = 0.405181, R = 0.540802, $F_{1.0}$ = 0.463270\n",
      "+++++ 53\n",
      "P = 0.404277, R = 0.549101, $F_{1.0}$ = 0.465689\n",
      "+++++ 51\n",
      "P = 0.410129, R = 0.571231, $F_{1.0}$ = 0.477457\n",
      "+++++ 49\n",
      "P = 0.401146, R = 0.580913, $F_{1.0}$ = 0.474576\n",
      "+++++ 30\n",
      "P = 0.394595, R = 0.605809, $F_{1.0}$ = 0.477905\n",
      "+++++ 28\n",
      "P = 0.397273, R = 0.604426, $F_{1.0}$ = 0.479430\n",
      "+++++ 26\n",
      "P = 0.402715, R = 0.615491, $F_{1.0}$ = 0.486871\n",
      "+++++ 25\n",
      "P = 0.403620, R = 0.616874, $F_{1.0}$ = 0.487965\n",
      "+++++ 23\n",
      "P = 0.410565, R = 0.612725, $F_{1.0}$ = 0.491676\n",
      "+++++ 21\n",
      "P = 0.405333, R = 0.630705, $F_{1.0}$ = 0.493506\n",
      "+++++ 19\n",
      "P = 0.405526, R = 0.629322, $F_{1.0}$ = 0.493225\n",
      "+++++ 17\n",
      "P = 0.405142, R = 0.632089, $F_{1.0}$ = 0.493787\n",
      "+++++ 14\n",
      "P = 0.400515, R = 0.645920, $F_{1.0}$ = 0.494442\n",
      "+++++ 13\n",
      "P = 0.396552, R = 0.636238, $F_{1.0}$ = 0.488582\n",
      "+++++ 12\n",
      "P = 0.404405, R = 0.634855, $F_{1.0}$ = 0.494080\n",
      "+++++ 11\n",
      "P = 0.410009, R = 0.645920, $F_{1.0}$ = 0.501611\n",
      "+++++ 9\n",
      "P = 0.422222, R = 0.656985, $F_{1.0}$ = 0.514069\n",
      "+++++ 8\n",
      "P = 0.425267, R = 0.661134, $F_{1.0}$ = 0.517596\n",
      "+++++ 7\n",
      "P = 0.463294, R = 0.645920, $F_{1.0}$ = 0.539573\n",
      "+++++ 6\n",
      "P = 0.460039, R = 0.652835, $F_{1.0}$ = 0.539737\n",
      "+++++ 5\n",
      "P = 0.478439, R = 0.644537, $F_{1.0}$ = 0.549204\n",
      "+++++ 4\n",
      "P = 0.515284, R = 0.652835, $F_{1.0}$ = 0.575961\n",
      "+++++ 3\n",
      "P = 0.529083, R = 0.654219, $F_{1.0}$ = 0.585034\n",
      "+++++ 2\n",
      "P = 0.536842, R = 0.634855, $F_{1.0}$ = 0.581749\n",
      "+++++ 1\n",
      "P = 0.557616, R = 0.582296, $F_{1.0}$ = 0.569689\n"
     ]
    }
   ],
   "source": [
    "dataset.load_pos_sequences(filter_min_count=1)\n",
    "for threshold in sorted(dataset.filtering_counts(), reverse=True):\n",
    "    print(\"+++++\", threshold)\n",
    "    dataset.training(features_method=\"simple-posseq\", filter_min_count=threshold)\n",
    "    print(\"P = %f, R = %f, $F_{1.0}$ = %f\" % dataset.eval())"
   ]
  }
 ],
 "metadata": {
  "kernelspec": {
   "display_name": "Python 3",
   "language": "python",
   "name": "python3"
  },
  "language_info": {
   "codemirror_mode": {
    "name": "ipython",
    "version": 3
   },
   "file_extension": ".py",
   "mimetype": "text/x-python",
   "name": "python",
   "nbconvert_exporter": "python",
   "pygments_lexer": "ipython3",
   "version": "3.7.3"
  }
 },
 "nbformat": 4,
 "nbformat_minor": 2
}
