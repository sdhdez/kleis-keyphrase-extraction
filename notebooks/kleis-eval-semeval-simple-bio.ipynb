{
 "cells": [
  {
   "cell_type": "code",
   "execution_count": 1,
   "metadata": {},
   "outputs": [],
   "source": [
    "import kleis.resources.dataset as kl\n",
    "from kleis.config.config import SEMEVAL2017"
   ]
  },
  {
   "cell_type": "code",
   "execution_count": 2,
   "metadata": {},
   "outputs": [],
   "source": [
    "semeval2017 = kl.load_corpus(name=SEMEVAL2017)"
   ]
  },
  {
   "cell_type": "code",
   "execution_count": 3,
   "metadata": {},
   "outputs": [],
   "source": [
    "dataset = semeval2017"
   ]
  },
  {
   "cell_type": "code",
   "execution_count": 4,
   "metadata": {},
   "outputs": [],
   "source": [
    "dataset.load_train()\n",
    "dataset.load_dev()"
   ]
  },
  {
   "cell_type": "code",
   "execution_count": 5,
   "metadata": {},
   "outputs": [
    {
     "name": "stdout",
     "output_type": "stream",
     "text": [
      "semeval2017-task10 350 50\n"
     ]
    }
   ],
   "source": [
    "print(dataset.fullname, len(dataset.train), len(dataset.dev))"
   ]
  },
  {
   "cell_type": "code",
   "execution_count": 7,
   "metadata": {},
   "outputs": [
    {
     "name": "stdout",
     "output_type": "stream",
     "text": [
      "#Id FilterMinCount precision recall f1score\n",
      "1 1 0.559671 0.235702 0.331707\n",
      "2 2 0.613497 0.259965 0.365186\n",
      "3 3 0.623457 0.262565 0.369512\n",
      "4 4 0.627083 0.260832 0.368421\n",
      "5 5 0.631799 0.261698 0.370098\n",
      "6 6 0.623950 0.257366 0.364417\n",
      "7 7 0.629787 0.256499 0.364532\n",
      "8 8 0.629400 0.263432 0.371411\n",
      "9 9 0.627368 0.258232 0.365869\n",
      "10 10 0.632135 0.259099 0.367548\n",
      "11 11 0.632479 0.256499 0.364982\n",
      "12 12 0.629067 0.251300 0.359133\n",
      "13 13 0.628821 0.249567 0.357320\n",
      "14 14 0.635965 0.251300 0.360248\n",
      "15 15 0.636564 0.250433 0.359453\n",
      "16 16 0.637188 0.243501 0.352351\n",
      "17 17 0.639013 0.246967 0.356250\n",
      "18 20 0.642534 0.246101 0.355890\n",
      "19 21 0.639908 0.241768 0.350943\n",
      "20 22 0.638826 0.245234 0.354415\n",
      "21 24 0.633867 0.240035 0.348209\n",
      "22 25 0.629545 0.240035 0.347553\n",
      "23 26 0.631702 0.234835 0.342388\n",
      "24 27 0.627635 0.232236 0.339026\n",
      "25 28 0.618056 0.231369 0.336696\n",
      "26 34 0.616972 0.233102 0.338365\n",
      "27 37 0.620930 0.231369 0.337121\n",
      "28 39 0.622378 0.231369 0.337334\n",
      "29 50 0.625592 0.228769 0.335025\n",
      "30 63 0.629187 0.227903 0.334606\n",
      "31 89 0.624691 0.219237 0.324567\n",
      "32 103 0.616541 0.213172 0.316806\n",
      "33 107 0.627907 0.210572 0.315380\n",
      "34 130 0.634877 0.201906 0.306377\n",
      "35 177 0.636888 0.191508 0.294470\n",
      "36 200 0.631250 0.175043 0.274084\n",
      "37 219 0.621359 0.166378 0.262474\n",
      "38 283 0.622222 0.145581 0.235955\n",
      "39 335 0.623077 0.140381 0.229137\n",
      "40 444 0.613333 0.119584 0.200145\n",
      "41 526 0.638418 0.097920 0.169797\n",
      "42 627 0.708955 0.082322 0.147516\n",
      "43 684 0.687500 0.019064 0.037099\n"
     ]
    }
   ],
   "source": [
    "dataset.load_pos_sequences(filter_min_count=1)\n",
    "print(\"#Id FilterMinCount precision recall f1score\")\n",
    "for i, threshold in enumerate(sorted(dataset.filtering_counts(), reverse=False)):\n",
    "    dataset.training(filter_min_count=threshold, tagging_notation=\"BIO\")\n",
    "    precision, recall, f1 = dataset.eval(dataset=dataset.dev)\n",
    "    print(\"%d %d %f %f %f\" % (i + 1, threshold, precision, recall, f1))"
   ]
  }
 ],
 "metadata": {
  "kernelspec": {
   "display_name": "Python 3",
   "language": "python",
   "name": "python3"
  },
  "language_info": {
   "codemirror_mode": {
    "name": "ipython",
    "version": 3
   },
   "file_extension": ".py",
   "mimetype": "text/x-python",
   "name": "python",
   "nbconvert_exporter": "python",
   "pygments_lexer": "ipython3",
   "version": "3.7.3"
  }
 },
 "nbformat": 4,
 "nbformat_minor": 2
}
