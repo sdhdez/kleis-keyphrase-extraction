{
 "cells": [
  {
   "cell_type": "code",
   "execution_count": 1,
   "metadata": {},
   "outputs": [],
   "source": [
    "import kleis.resources.dataset as kl\n",
    "from kleis.config.config import SEMEVAL2017"
   ]
  },
  {
   "cell_type": "code",
   "execution_count": 2,
   "metadata": {},
   "outputs": [],
   "source": [
    "semeval2017 = kl.load_corpus(name=SEMEVAL2017)"
   ]
  },
  {
   "cell_type": "code",
   "execution_count": 3,
   "metadata": {},
   "outputs": [],
   "source": [
    "dataset = semeval2017"
   ]
  },
  {
   "cell_type": "code",
   "execution_count": 4,
   "metadata": {},
   "outputs": [],
   "source": [
    "dataset.load_train()\n",
    "dataset.load_dev()"
   ]
  },
  {
   "cell_type": "code",
   "execution_count": 5,
   "metadata": {},
   "outputs": [
    {
     "name": "stdout",
     "output_type": "stream",
     "text": [
      "semeval2017-task10 350 50\n"
     ]
    }
   ],
   "source": [
    "print(dataset.fullname, len(dataset.train), len(dataset.dev))"
   ]
  },
  {
   "cell_type": "code",
   "execution_count": 6,
   "metadata": {},
   "outputs": [
    {
     "name": "stdout",
     "output_type": "stream",
     "text": [
      "#Id FilterMinCount precision recall f1score\n",
      "1 1 0.418381 0.264298 0.323951\n",
      "2 2 0.480534 0.374350 0.420848\n",
      "3 3 0.495413 0.374350 0.426456\n",
      "4 4 0.477440 0.394281 0.431894\n",
      "5 5 0.381427 0.430676 0.404558\n",
      "6 6 0.364032 0.435009 0.396368\n",
      "7 7 0.351701 0.448007 0.394055\n",
      "8 8 0.365057 0.445407 0.401249\n",
      "9 9 0.347498 0.439341 0.388060\n",
      "10 10 0.384959 0.448007 0.414097\n",
      "11 11 0.358317 0.472270 0.407477\n",
      "12 12 0.345960 0.474870 0.400292\n",
      "13 13 0.352113 0.476603 0.405007\n",
      "14 14 0.350582 0.469671 0.401481\n",
      "15 15 0.344221 0.474870 0.399126\n",
      "16 16 0.351299 0.468804 0.401633\n",
      "17 17 0.341401 0.464471 0.393539\n",
      "18 20 0.361437 0.453206 0.402153\n",
      "19 21 0.353022 0.445407 0.393870\n",
      "20 22 0.322621 0.452340 0.376623\n",
      "21 24 0.324813 0.451473 0.377810\n",
      "22 25 0.370073 0.439341 0.401743\n",
      "23 26 0.357341 0.447140 0.397229\n",
      "24 27 0.338511 0.453206 0.387551\n",
      "25 28 0.320475 0.467938 0.380416\n",
      "26 34 0.381273 0.441075 0.409000\n",
      "27 37 0.281026 0.474870 0.353093\n",
      "28 39 0.281046 0.484402 0.355711\n",
      "29 50 0.259488 0.474003 0.335377\n",
      "30 63 0.262233 0.478336 0.338754\n",
      "31 89 0.262997 0.447140 0.331194\n",
      "32 103 0.284153 0.450607 0.348525\n",
      "33 107 0.279122 0.429809 0.338451\n",
      "34 130 0.307351 0.420277 0.355051\n",
      "35 177 0.277910 0.405546 0.329810\n",
      "36 200 0.294191 0.408146 0.341924\n",
      "37 219 0.316027 0.363951 0.338300\n",
      "38 283 0.322908 0.331023 0.326915\n",
      "39 335 0.329960 0.282496 0.304388\n",
      "40 444 0.294715 0.251300 0.271282\n",
      "41 526 0.354545 0.236568 0.283784\n",
      "42 627 0.708333 0.088388 0.157165\n",
      "43 684 0.684211 0.011265 0.022165\n"
     ]
    }
   ],
   "source": [
    "dataset.load_pos_sequences(filter_min_count=1)\n",
    "print(\"#Id FilterMinCount precision recall f1score\")\n",
    "for i, threshold in enumerate(sorted(dataset.filtering_counts(), reverse=False)):\n",
    "    dataset.training(features_method=\"simple-posseq\", filter_min_count=threshold, tagging_notation=\"BILOU\")\n",
    "    precision, recall, f1 = dataset.eval(dataset=dataset.dev)\n",
    "    print(\"%d %d %f %f %f\" % (i + 1, threshold, precision, recall, f1))"
   ]
  }
 ],
 "metadata": {
  "kernelspec": {
   "display_name": "Python 3",
   "language": "python",
   "name": "python3"
  },
  "language_info": {
   "codemirror_mode": {
    "name": "ipython",
    "version": 3
   },
   "file_extension": ".py",
   "mimetype": "text/x-python",
   "name": "python",
   "nbconvert_exporter": "python",
   "pygments_lexer": "ipython3",
   "version": "3.7.3"
  }
 },
 "nbformat": 4,
 "nbformat_minor": 2
}
