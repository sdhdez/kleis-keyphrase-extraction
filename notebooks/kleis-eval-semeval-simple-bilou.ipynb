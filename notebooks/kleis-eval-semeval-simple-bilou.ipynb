{
 "cells": [
  {
   "cell_type": "code",
   "execution_count": 1,
   "metadata": {},
   "outputs": [],
   "source": [
    "import kleis.resources.dataset as kl\n",
    "from kleis.config.config import SEMEVAL2017"
   ]
  },
  {
   "cell_type": "code",
   "execution_count": 2,
   "metadata": {},
   "outputs": [],
   "source": [
    "semeval2017 = kl.load_corpus(name=SEMEVAL2017)"
   ]
  },
  {
   "cell_type": "code",
   "execution_count": 3,
   "metadata": {},
   "outputs": [],
   "source": [
    "dataset = semeval2017"
   ]
  },
  {
   "cell_type": "code",
   "execution_count": 4,
   "metadata": {},
   "outputs": [],
   "source": [
    "dataset.load_train()\n",
    "dataset.load_dev()"
   ]
  },
  {
   "cell_type": "code",
   "execution_count": 5,
   "metadata": {},
   "outputs": [
    {
     "name": "stdout",
     "output_type": "stream",
     "text": [
      "semeval2017-task10 350 50\n"
     ]
    }
   ],
   "source": [
    "print(dataset.fullname, len(dataset.train), len(dataset.dev))"
   ]
  },
  {
   "cell_type": "code",
   "execution_count": 6,
   "metadata": {},
   "outputs": [
    {
     "name": "stdout",
     "output_type": "stream",
     "text": [
      "#Id FilterMinCount precision recall f1score\n",
      "1 1 0.574850 0.249567 0.348036\n",
      "2 2 0.627016 0.269497 0.376970\n",
      "3 3 0.632114 0.269497 0.377886\n",
      "4 4 0.641975 0.270364 0.380488\n",
      "5 5 0.643312 0.262565 0.372923\n",
      "6 6 0.643777 0.259965 0.370370\n",
      "7 7 0.638298 0.259965 0.369458\n",
      "8 8 0.641509 0.265165 0.375230\n",
      "9 9 0.646186 0.264298 0.375154\n",
      "10 10 0.641026 0.259965 0.369914\n",
      "11 11 0.652268 0.261698 0.373531\n",
      "12 12 0.644681 0.262565 0.373153\n",
      "13 13 0.638710 0.257366 0.366893\n",
      "14 14 0.647312 0.260832 0.371834\n",
      "15 15 0.653191 0.266031 0.378079\n",
      "16 16 0.649007 0.254766 0.365899\n",
      "17 17 0.647577 0.254766 0.365672\n",
      "18 20 0.643478 0.256499 0.366791\n",
      "19 21 0.638767 0.251300 0.360697\n",
      "20 22 0.645740 0.249567 0.360000\n",
      "21 24 0.641256 0.247834 0.357500\n",
      "22 25 0.642058 0.248700 0.358526\n",
      "23 26 0.638202 0.246101 0.355222\n",
      "24 27 0.633333 0.246967 0.355362\n",
      "25 28 0.634744 0.246967 0.355583\n",
      "26 34 0.639198 0.248700 0.358079\n",
      "27 37 0.640625 0.248700 0.358302\n",
      "28 39 0.645089 0.250433 0.360799\n",
      "29 50 0.645012 0.240901 0.350789\n",
      "30 63 0.651054 0.240901 0.351676\n",
      "31 89 0.645238 0.234835 0.344346\n",
      "32 103 0.646040 0.226170 0.335045\n",
      "33 107 0.646766 0.225303 0.334190\n",
      "34 130 0.642105 0.211438 0.318123\n",
      "35 177 0.654494 0.201906 0.308609\n",
      "36 200 0.644377 0.183709 0.285907\n",
      "37 219 0.650485 0.174177 0.274778\n",
      "38 283 0.645283 0.148180 0.241015\n",
      "39 335 0.643137 0.142114 0.232789\n",
      "40 444 0.637168 0.124783 0.208696\n",
      "41 526 0.651163 0.097054 0.168929\n",
      "42 627 0.708955 0.082322 0.147516\n",
      "43 684 0.687500 0.019064 0.037099\n"
     ]
    }
   ],
   "source": [
    "dataset.load_pos_sequences(filter_min_count=1)\n",
    "print(\"#Id FilterMinCount precision recall f1score\")\n",
    "for i, threshold in enumerate(sorted(dataset.filtering_counts(), reverse=False)):\n",
    "    dataset.training(features_method=\"simple\", filter_min_count=threshold, tagging_notation=\"BILOU\")\n",
    "    precision, recall, f1 = dataset.eval(dataset=dataset.dev)\n",
    "    print(\"%d %d %f %f %f\" % (i + 1, threshold, precision, recall, f1))"
   ]
  }
 ],
 "metadata": {
  "kernelspec": {
   "display_name": "Python 3",
   "language": "python",
   "name": "python3"
  },
  "language_info": {
   "codemirror_mode": {
    "name": "ipython",
    "version": 3
   },
   "file_extension": ".py",
   "mimetype": "text/x-python",
   "name": "python",
   "nbconvert_exporter": "python",
   "pygments_lexer": "ipython3",
   "version": "3.7.3"
  }
 },
 "nbformat": 4,
 "nbformat_minor": 2
}
